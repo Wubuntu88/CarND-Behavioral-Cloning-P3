{
 "cells": [
  {
   "cell_type": "code",
   "execution_count": 1,
   "metadata": {},
   "outputs": [
    {
     "name": "stdout",
     "output_type": "stream",
     "text": [
      "------\n",
      "(23876, 160, 320, 3)\n",
      "(26836, 160, 320, 3)\n",
      "(24408, 160, 320, 3)\n"
     ]
    }
   ],
   "source": [
    "from loader2 import load_data_from_files\n",
    "\n",
    "file_names = [\n",
    "#    '../data/driving_log.csv',\n",
    "#    '../MyData1/driving_log.csv',\n",
    "#    '../MyData2/driving_log.csv',\n",
    "#     '../MyDataBridge1/driving_log.csv',\n",
    "#     '../MyDataBridge3/driving_log.csv',\n",
    "#     '../MyDataCorrection1/driving_log.csv',\n",
    "    '../MyData3/driving_log.csv',\n",
    "    '../MyData4/driving_log.csv',\n",
    "    '../MyData5/driving_log.csv'\n",
    "]\n",
    "#x_train, y_train = load_data(path_to_csv_file='../data/driving_log.csv')\n",
    "x_train, y_train = load_data_from_files(file_names)"
   ]
  },
  {
   "cell_type": "code",
   "execution_count": 2,
   "metadata": {},
   "outputs": [
    {
     "data": {
      "text/plain": [
       "(75120, 160, 320, 3)"
      ]
     },
     "execution_count": 2,
     "metadata": {},
     "output_type": "execute_result"
    }
   ],
   "source": [
    "x_train.shape"
   ]
  },
  {
   "cell_type": "code",
   "execution_count": 3,
   "metadata": {},
   "outputs": [
    {
     "name": "stderr",
     "output_type": "stream",
     "text": [
      "Using TensorFlow backend.\n"
     ]
    }
   ],
   "source": [
    "from lenet_trainer import train_lenet"
   ]
  },
  {
   "cell_type": "code",
   "execution_count": 4,
   "metadata": {
    "scrolled": false
   },
   "outputs": [
    {
     "name": "stdout",
     "output_type": "stream",
     "text": [
      "Train on 60096 samples, validate on 15024 samples\n",
      "Epoch 1/10\n",
      "60096/60096 [==============================] - 83s - loss: 0.7446 - val_loss: 0.1492\n",
      "Epoch 2/10\n",
      "60096/60096 [==============================] - 79s - loss: 0.1589 - val_loss: 0.1445\n",
      "Epoch 3/10\n",
      "60096/60096 [==============================] - 79s - loss: 0.1497 - val_loss: 0.1386\n",
      "Epoch 4/10\n",
      "60096/60096 [==============================] - 80s - loss: 0.1221 - val_loss: 0.0970\n",
      "Epoch 5/10\n",
      "60096/60096 [==============================] - 79s - loss: 0.0849 - val_loss: 0.0751\n",
      "Epoch 6/10\n",
      "60096/60096 [==============================] - 79s - loss: 0.0686 - val_loss: 0.0639\n",
      "Epoch 7/10\n",
      "60096/60096 [==============================] - 79s - loss: 0.0597 - val_loss: 0.0579\n",
      "Epoch 8/10\n",
      "60096/60096 [==============================] - 79s - loss: 0.0539 - val_loss: 0.0521\n",
      "Epoch 9/10\n",
      "60096/60096 [==============================] - 79s - loss: 0.0485 - val_loss: 0.0480\n",
      "Epoch 10/10\n",
      "60096/60096 [==============================] - 79s - loss: 0.0438 - val_loss: 0.0426\n"
     ]
    }
   ],
   "source": [
    "lenet_model, history = train_lenet(x_train=x_train, y_train=y_train, nb_epoch=10)"
   ]
  },
  {
   "cell_type": "code",
   "execution_count": 5,
   "metadata": {},
   "outputs": [
    {
     "data": {
      "image/png": "[encoded data removed]",
      "text/plain": [
       "<matplotlib.figure.Figure at 0x7fe016657978>"
      ]
     },
     "metadata": {},
     "output_type": "display_data"
    }
   ],
   "source": [
    "### plot the training and validation loss for each epoch\n",
    "import matplotlib.pyplot as plt\n",
    "plt.plot(history.history['loss'])\n",
    "plt.plot(history.history['val_loss'])\n",
    "plt.title('model mean squared error loss')\n",
    "plt.ylabel('mean squared error loss')\n",
    "plt.xlabel('epoch')\n",
    "plt.legend(['training set', 'validation set'], loc='upper right')\n",
    "plt.show()"
   ]
  },
  {
   "cell_type": "code",
   "execution_count": 6,
   "metadata": {
    "collapsed": true
   },
   "outputs": [],
   "source": [
    "lenet_model.save('../trained_models/lenet_model_3_cameras.h5')"
   ]
  },
  {
   "cell_type": "code",
   "execution_count": null,
   "metadata": {
    "collapsed": true
   },
   "outputs": [],
   "source": [
    ""
   ]
  }
 ],
 "metadata": {
  "kernelspec": {
   "display_name": "Python 3",
   "language": "python",
   "name": "python3"
  },
  "language_info": {
   "codemirror_mode": {
    "name": "ipython",
    "version": 3.0
   },
   "file_extension": ".py",
   "mimetype": "text/x-python",
   "name": "python",
   "nbconvert_exporter": "python",
   "pygments_lexer": "ipython3",
   "version": "3.5.2"
  },
  "widgets": {
   "state": {},
   "version": "1.1.2"
  }
 },
 "nbformat": 4,
 "nbformat_minor": 0
}