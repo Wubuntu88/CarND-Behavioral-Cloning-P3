{
 "cells": [
  {
   "cell_type": "code",
   "execution_count": 3,
   "metadata": {},
   "outputs": [
    {
     "name": "stdout",
     "output_type": "stream",
     "text": [
      "(8036, 160, 320, 3)\n",
      "(8036,)\n"
     ]
    }
   ],
   "source": [
    "from loader import load_data\n",
    "\n",
    "x_train, y_train = load_data(path_to_csv_file='../data/driving_log.csv')\n",
    "print(x_train.shape)\n",
    "print(y_train.shape)"
   ]
  },
  {
   "cell_type": "code",
   "execution_count": 4,
   "metadata": {
    "collapsed": true
   },
   "outputs": [],
   "source": [
    "from regression_trainer import train_reg"
   ]
  },
  {
   "cell_type": "code",
   "execution_count": 5,
   "metadata": {},
   "outputs": [
    {
     "name": "stdout",
     "output_type": "stream",
     "text": [
      "Train on 6428 samples, validate on 1608 samples\n",
      "Epoch 1/10\n",
      "6428/6428 [==============================] - 6s - loss: 2.1514 - val_loss: 0.8856\n",
      "Epoch 2/10\n",
      "6428/6428 [==============================] - 5s - loss: 2.9138 - val_loss: 4.4509\n",
      "Epoch 3/10\n",
      "6428/6428 [==============================] - 5s - loss: 4.2869 - val_loss: 2.6991\n",
      "Epoch 4/10\n",
      "6428/6428 [==============================] - 5s - loss: 4.5573 - val_loss: 3.1999\n",
      "Epoch 5/10\n",
      "6428/6428 [==============================] - 5s - loss: 4.6298 - val_loss: 3.7195\n",
      "Epoch 6/10\n",
      "6428/6428 [==============================] - 5s - loss: 2.5807 - val_loss: 1.0465\n",
      "Epoch 7/10\n",
      "6428/6428 [==============================] - 5s - loss: 2.1884 - val_loss: 1.4897\n",
      "Epoch 8/10\n",
      "6428/6428 [==============================] - 5s - loss: 3.0026 - val_loss: 2.0818\n",
      "Epoch 9/10\n",
      "6428/6428 [==============================] - 5s - loss: 4.3290 - val_loss: 4.3178\n",
      "Epoch 10/10\n",
      "6428/6428 [==============================] - 5s - loss: 4.1424 - val_loss: 3.3426\n"
     ]
    }
   ],
   "source": [
    "reg_model = train_reg(x_train=x_train,\n",
    "                     y_train=y_train)"
   ]
  },
  {
   "cell_type": "code",
   "execution_count": 7,
   "metadata": {
    "collapsed": true
   },
   "outputs": [],
   "source": [
    "reg_model.save('../lenet_model.h5')"
   ]
  },
  {
   "cell_type": "code",
   "execution_count": null,
   "metadata": {
    "collapsed": true
   },
   "outputs": [],
   "source": []
  }
 ],
 "metadata": {
  "kernelspec": {
   "display_name": "Python 3",
   "language": "python",
   "name": "python3"
  },
  "language_info": {
   "codemirror_mode": {
    "name": "ipython",
    "version": 3
   },
   "file_extension": ".py",
   "mimetype": "text/x-python",
   "name": "python",
   "nbconvert_exporter": "python",
   "pygments_lexer": "ipython3",
   "version": "3.5.2"
  },
  "widgets": {
   "state": {},
   "version": "1.1.2"
  }
 },
 "nbformat": 4,
 "nbformat_minor": 1
}
